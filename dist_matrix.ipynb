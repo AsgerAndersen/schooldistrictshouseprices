{
 "cells": [
  {
   "cell_type": "code",
   "execution_count": 1,
   "metadata": {
    "collapsed": true
   },
   "outputs": [],
   "source": [
    "import numpy as np\n",
    "import pandas as pd\n",
    "import geopandas as gpd\n",
    "import sklearn.model_selection as skmod\n",
    "import sklearn.neighbors as nnb\n",
    "from geopy import distance as geod\n",
    "import shapely as shp\n",
    "import matplotlib.pyplot as plt\n",
    "import seaborn as sns\n",
    "% matplotlib inline"
   ]
  },
  {
   "cell_type": "code",
   "execution_count": 2,
   "metadata": {
    "collapsed": true
   },
   "outputs": [],
   "source": [
    "sales = gpd.GeoDataFrame(pd.read_pickle('2014-01-01_2018-07-31_koebenhavn_predictive.pkl'), geometry='coords')\n",
    "sales.crs = {'init': 'epsg:2077'}\n",
    "sales['easting'] = sales['coords'].x\n",
    "sales['northing'] = sales['coords'].y\n",
    "sales['sale_date_epoch'] = sales['sale_date'].apply(lambda d : d.timestamp()) // (24*3600)"
   ]
  },
  {
   "cell_type": "code",
   "execution_count": 3,
   "metadata": {
    "collapsed": true
   },
   "outputs": [],
   "source": [
    "find_nn_cands = nnb.NearestNeighbors(radius=500)\n",
    "nn_cands_dists, nn_cands = find_nn_cands.fit(sales[['easting','northing']]).radius_neighbors()\n",
    "n_nns = [len(a) for a in nn_cands]"
   ]
  },
  {
   "cell_type": "code",
   "execution_count": 4,
   "metadata": {
    "collapsed": true
   },
   "outputs": [],
   "source": [
    "def bordermatch(i) :\n",
    "    cond1 = sales.loc[nn_cands[i],'skolenavn'] == sales.loc[i,'nn_skolenavn']\n",
    "    cond2 = sales.loc[nn_cands[i],'nn_skolenavn'] == sales.loc[i,'skolenavn']\n",
    "    if sales.loc[i,'west_of_harbour'] :\n",
    "        cond3 = sales.loc[nn_cands[i],'west_of_harbour']\n",
    "    else :\n",
    "        cond3 = ~sales.loc[nn_cands[i],'west_of_harbour']\n",
    "    return cond1 & cond2 & cond3"
   ]
  },
  {
   "cell_type": "code",
   "execution_count": 5,
   "metadata": {},
   "outputs": [],
   "source": [
    "timediffs = [sales.loc[nn_cands[i],'sale_date_epoch'] - sales.loc[i,'sale_date_epoch'] for i in range(0,len(nn_cands))]"
   ]
  },
  {
   "cell_type": "code",
   "execution_count": 6,
   "metadata": {
    "collapsed": true
   },
   "outputs": [],
   "source": [
    "df_nn_cands = pd.DataFrame({'dist' : np.concatenate(nn_cands_dists, axis=0),\n",
    "                            'time' : np.concatenate(timediffs, axis=0)},\n",
    "                             index=[np.repeat(sales.index,n_nns), np.concatenate(nn_cands, axis=0)])"
   ]
  },
  {
   "cell_type": "code",
   "execution_count": 7,
   "metadata": {
    "collapsed": true
   },
   "outputs": [],
   "source": [
    "df_nn_cands.index.names = ['s1', 's2']"
   ]
  },
  {
   "cell_type": "code",
   "execution_count": 8,
   "metadata": {
    "collapsed": true
   },
   "outputs": [],
   "source": [
    "df_nn_cands.to_pickle('nn_frame_predictive.pkl')"
   ]
  },
  {
   "cell_type": "code",
   "execution_count": 9,
   "metadata": {
    "collapsed": true
   },
   "outputs": [],
   "source": [
    "sales = gpd.GeoDataFrame(pd.read_pickle('2014-01-01_2018-07-31_koebenhavn_causal.pkl'), geometry='coords')\n",
    "sales.crs = {'init': 'epsg:2077'}\n",
    "sales['easting'] = sales['coords'].x\n",
    "sales['northing'] = sales['coords'].y\n",
    "sales['sale_date_epoch'] = sales['sale_date'].apply(lambda d : d.timestamp()) // (24*3600)"
   ]
  },
  {
   "cell_type": "code",
   "execution_count": 10,
   "metadata": {
    "collapsed": true
   },
   "outputs": [],
   "source": [
    "find_nn_cands = nnb.NearestNeighbors(radius=500)\n",
    "nn_cands_dists, nn_cands = find_nn_cands.fit(sales[['easting','northing']]).radius_neighbors()\n",
    "n_nns = [len(a) for a in nn_cands]"
   ]
  },
  {
   "cell_type": "code",
   "execution_count": null,
   "metadata": {
    "collapsed": true
   },
   "outputs": [],
   "source": [
    "timediffs = [sales.loc[nn_cands[i],'sale_date_epoch'] - sales.loc[i,'sale_date_epoch'] for i in range(0,len(nn_cands))]\n",
    "bordermatches = [bordermatch(i) for i in range(0,len(nn_cands))]"
   ]
  },
  {
   "cell_type": "code",
   "execution_count": null,
   "metadata": {
    "collapsed": true
   },
   "outputs": [],
   "source": [
    "df_nn_cands = pd.DataFrame({'dist' : np.concatenate(nn_cands_dists, axis=0),\n",
    "                            'time' : np.concatenate(timediffs, axis=0),\n",
    "                            'bordermatch' : np.concatenate(bordermatches, axis=0)},\n",
    "                             index=[np.repeat(sales.index,n_nns), np.concatenate(nn_cands, axis=0)])"
   ]
  },
  {
   "cell_type": "code",
   "execution_count": null,
   "metadata": {
    "collapsed": true
   },
   "outputs": [],
   "source": [
    "df_nn_cands.index.names = ['s1', 's2']"
   ]
  },
  {
   "cell_type": "code",
   "execution_count": null,
   "metadata": {
    "collapsed": true
   },
   "outputs": [],
   "source": [
    "df_nn_cands.to_pickle('nn_frame_causal.pkl')"
   ]
  }
 ],
 "metadata": {
  "kernelspec": {
   "display_name": "Python 3",
   "language": "python",
   "name": "python3"
  },
  "language_info": {
   "codemirror_mode": {
    "name": "ipython",
    "version": 3
   },
   "file_extension": ".py",
   "mimetype": "text/x-python",
   "name": "python",
   "nbconvert_exporter": "python",
   "pygments_lexer": "ipython3",
   "version": "3.6.6"
  }
 },
 "nbformat": 4,
 "nbformat_minor": 2
}
